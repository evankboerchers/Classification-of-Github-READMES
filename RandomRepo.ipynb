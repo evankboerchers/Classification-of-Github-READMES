{
 "cells": [
  {
   "cell_type": "code",
   "execution_count": 1,
   "metadata": {},
   "outputs": [],
   "source": [
    "import requests\n",
    "import json\n",
    "import random\n",
    "    \n",
    "import webbrowser"
   ]
  },
  {
   "cell_type": "markdown",
   "metadata": {},
   "source": [
    "README Criteria:\n",
    " - has to be markdown file\n",
    " - Preferably more than 5 sections\n",
    " - English\n",
    " - Seems reasonable\n",
    " "
   ]
  },
  {
   "cell_type": "code",
   "execution_count": 37,
   "metadata": {},
   "outputs": [
    {
     "name": "stdout",
     "output_type": "stream",
     "text": [
      "https://github.com/releaz/sage\n"
     ]
    }
   ],
   "source": [
    "r_int = random.randint(100000,100000000)\n",
    "\n",
    "url = 'https://api.github.com/repositories?since={}'.format(r_int)\n",
    "r = requests.get(url)\n",
    "if(r.ok):\n",
    "    repoItem = json.loads(r.text or r.content)\n",
    "    url = repoItem[0]['html_url']\n",
    "\n",
    "\n",
    "webbrowser.register('chrome',\n",
    "\tNone,\n",
    "\twebbrowser.BackgroundBrowser(\"C://Program Files (x86)//Google//Chrome//Application//chrome.exe\"))\n",
    "webbrowser.get('chrome').open(url)\n",
    "\n",
    "print(url)"
   ]
  },
  {
   "cell_type": "code",
   "execution_count": null,
   "metadata": {},
   "outputs": [],
   "source": []
  },
  {
   "cell_type": "code",
   "execution_count": null,
   "metadata": {},
   "outputs": [],
   "source": []
  }
 ],
 "metadata": {
  "kernelspec": {
   "display_name": "Python 3",
   "language": "python",
   "name": "python3"
  },
  "language_info": {
   "codemirror_mode": {
    "name": "ipython",
    "version": 3
   },
   "file_extension": ".py",
   "mimetype": "text/x-python",
   "name": "python",
   "nbconvert_exporter": "python",
   "pygments_lexer": "ipython3",
   "version": "3.7.6"
  }
 },
 "nbformat": 4,
 "nbformat_minor": 4
}
